{
 "cells": [
  {
   "cell_type": "code",
   "execution_count": 1,
   "metadata": {
    "ExecuteTime": {
     "end_time": "2021-03-08T14:55:50.585995Z",
     "start_time": "2021-03-08T14:55:49.292450Z"
    }
   },
   "outputs": [],
   "source": [
    "# Imports\n",
    "import torch\n",
    "import torch.nn as nn\n",
    "import torchtext\n",
    "\n",
    "import numpy as np\n",
    "import pandas as pd\n",
    "import matplotlib.pyplot  as plt\n",
    "from datetime import datetime\n",
    "\n",
    "from torchtext.data import get_tokenizer\n",
    "\n",
    "import random\n",
    "import collections\n",
    "\n",
    "from torchtext.experimental.functional import sequential_transforms, vocab_func, totensor\n",
    "from torchtext.experimental.datasets.text_classification import TextClassificationDataset\n",
    "\n",
    "from tqdm.notebook import tqdm"
   ]
  },
  {
   "cell_type": "code",
   "execution_count": 2,
   "metadata": {
    "ExecuteTime": {
     "end_time": "2021-03-08T14:55:51.384150Z",
     "start_time": "2021-03-08T14:55:51.316424Z"
    }
   },
   "outputs": [
    {
     "name": "stdout",
     "output_type": "stream",
     "text": [
      "[('Go until jurong point, crazy.. Available only in bugis n great world la e buffet... Cine there got amore wat...', '0'), ('Ok lar... Joking wif u oni...', '0'), (\"Free entry in 2 a wkly comp to win FA Cup final tkts 21st May 2005. Text FA to 87121 to receive entry question(std txt rate)T&C's apply 08452810075over18's\", '1'), ('U dun say so early hor... U c already then say...', '0'), (\"Nah I don't think he goes to usf, he lives around here though\", '0')]\n"
     ]
    }
   ],
   "source": [
    "import csv\n",
    "# file adapted from https://www.kaggle.com/uciml/sms-spam-collection-dataset\n",
    "with open('data/spam2.csv', mode='r') as csv_file:\n",
    "    csv_reader = csv.reader(csv_file)\n",
    "    next(csv_reader)\n",
    "    data = [tuple(line) for line in csv_reader]\n",
    "    \n",
    "print(data[:5])"
   ]
  },
  {
   "cell_type": "code",
   "execution_count": 3,
   "metadata": {
    "ExecuteTime": {
     "end_time": "2021-03-08T14:55:51.422156Z",
     "start_time": "2021-03-08T14:55:51.385619Z"
    }
   },
   "outputs": [
    {
     "name": "stdout",
     "output_type": "stream",
     "text": [
      "Number of Examples: 5572\n"
     ]
    }
   ],
   "source": [
    "print(f'Number of Examples: {len(data)}')"
   ]
  },
  {
   "cell_type": "code",
   "execution_count": 4,
   "metadata": {
    "ExecuteTime": {
     "end_time": "2021-03-08T14:55:51.472980Z",
     "start_time": "2021-03-08T14:55:51.424040Z"
    }
   },
   "outputs": [],
   "source": [
    "def get_train_test_split(data, split_ratio = 0.7):\n",
    "    random.shuffle(data)\n",
    "    \n",
    "    n_train = int(len(data) * split_ratio)\n",
    "    train_data = data[:n_train]\n",
    "    test_data = data[n_train:]\n",
    "    \n",
    "    return train_data, test_data"
   ]
  },
  {
   "cell_type": "code",
   "execution_count": 5,
   "metadata": {
    "ExecuteTime": {
     "end_time": "2021-03-08T14:55:51.525738Z",
     "start_time": "2021-03-08T14:55:51.475592Z"
    }
   },
   "outputs": [],
   "source": [
    "train_data, test_data = get_train_test_split(data)"
   ]
  },
  {
   "cell_type": "code",
   "execution_count": 6,
   "metadata": {
    "ExecuteTime": {
     "end_time": "2021-03-08T14:55:51.575470Z",
     "start_time": "2021-03-08T14:55:51.527164Z"
    }
   },
   "outputs": [
    {
     "name": "stdout",
     "output_type": "stream",
     "text": [
      "Number of Train Examples: 3900\n",
      "Number of Test Examples: 1672\n"
     ]
    }
   ],
   "source": [
    "print(f'Number of Train Examples: {len(train_data)}')\n",
    "print(f'Number of Test Examples: {len(test_data)}')"
   ]
  },
  {
   "cell_type": "code",
   "execution_count": 7,
   "metadata": {
    "ExecuteTime": {
     "end_time": "2021-03-08T14:55:51.623571Z",
     "start_time": "2021-03-08T14:55:51.578946Z"
    }
   },
   "outputs": [],
   "source": [
    "class Tokenizer:\n",
    "    def __init__(self, tokenize_fn = 'basic_english', lower = True, max_length = None):\n",
    "        \n",
    "        self.tokenize_fn = torchtext.data.utils.get_tokenizer(tokenize_fn)\n",
    "        self.lower = lower\n",
    "        self.max_length = max_length\n",
    "        \n",
    "    def tokenize(self, s):\n",
    "        \n",
    "        tokens = self.tokenize_fn(s)\n",
    "        \n",
    "        if self.lower:\n",
    "            tokens = [token.lower() for token in tokens]\n",
    "            \n",
    "        if self.max_length is not None:\n",
    "            tokens = tokens[:self.max_length]\n",
    "            \n",
    "        return tokens"
   ]
  },
  {
   "cell_type": "code",
   "execution_count": 8,
   "metadata": {
    "ExecuteTime": {
     "end_time": "2021-03-08T14:55:51.687334Z",
     "start_time": "2021-03-08T14:55:51.625189Z"
    }
   },
   "outputs": [],
   "source": [
    "max_length=2500\n",
    "\n",
    "tokenizer = Tokenizer(max_length=max_length)"
   ]
  },
  {
   "cell_type": "code",
   "execution_count": 9,
   "metadata": {
    "ExecuteTime": {
     "end_time": "2021-03-08T14:55:51.738289Z",
     "start_time": "2021-03-08T14:55:51.689032Z"
    }
   },
   "outputs": [
    {
     "name": "stdout",
     "output_type": "stream",
     "text": [
      "['ham', 'but', 'not']\n"
     ]
    }
   ],
   "source": [
    "s = 'ham but not'\n",
    "print(tokenizer.tokenize(s))"
   ]
  },
  {
   "cell_type": "code",
   "execution_count": 10,
   "metadata": {
    "ExecuteTime": {
     "end_time": "2021-03-08T14:55:51.787378Z",
     "start_time": "2021-03-08T14:55:51.740293Z"
    }
   },
   "outputs": [],
   "source": [
    "def build_vocab_from_data(data, tokenizer, **vocab_kwarg):\n",
    "    \n",
    "    token_freqs = collections.Counter()\n",
    "    \n",
    "    for text, label  in data:\n",
    "        tokens = tokenizer.tokenize(text)\n",
    "        token_freqs.update(tokens)\n",
    "        \n",
    "    vocab = torchtext.vocab.Vocab(token_freqs, **vocab_kwarg)\n",
    "    \n",
    "    return vocab"
   ]
  },
  {
   "cell_type": "code",
   "execution_count": 11,
   "metadata": {
    "ExecuteTime": {
     "end_time": "2021-03-08T14:55:51.920403Z",
     "start_time": "2021-03-08T14:55:51.788795Z"
    }
   },
   "outputs": [],
   "source": [
    "max_size = 25000\n",
    "\n",
    "vocab = build_vocab_from_data(train_data, tokenizer, max_size = max_size)"
   ]
  },
  {
   "cell_type": "code",
   "execution_count": 12,
   "metadata": {
    "ExecuteTime": {
     "end_time": "2021-03-08T14:55:51.939507Z",
     "start_time": "2021-03-08T14:55:51.921953Z"
    }
   },
   "outputs": [
    {
     "name": "stdout",
     "output_type": "stream",
     "text": [
      "Unique words in vocab: 7569\n"
     ]
    }
   ],
   "source": [
    "print(f'Unique words in vocab: {len(vocab)}')"
   ]
  },
  {
   "cell_type": "code",
   "execution_count": 13,
   "metadata": {
    "ExecuteTime": {
     "end_time": "2021-03-08T14:55:51.992316Z",
     "start_time": "2021-03-08T14:55:51.944041Z"
    }
   },
   "outputs": [
    {
     "data": {
      "text/plain": [
       "[('.', 7728), ('i', 2066), ('you', 1604), ('to', 1580), (',', 1319)]"
      ]
     },
     "execution_count": 13,
     "metadata": {},
     "output_type": "execute_result"
    }
   ],
   "source": [
    "vocab.freqs.most_common(5)"
   ]
  },
  {
   "cell_type": "code",
   "execution_count": 14,
   "metadata": {
    "ExecuteTime": {
     "end_time": "2021-03-08T14:55:52.039038Z",
     "start_time": "2021-03-08T14:55:51.994271Z"
    }
   },
   "outputs": [],
   "source": [
    "def data_to_dataset(data, tokenizer, vocab):\n",
    "    \n",
    "    data = [(text, label) for (text, label) in data]\n",
    "    \n",
    "    text_transform = sequential_transforms(tokenizer.tokenize,\n",
    "                                                  vocab_func(vocab),\n",
    "                                                  totensor(dtype=torch.long)\n",
    "                                          )\n",
    "    label_transform = sequential_transforms(lambda x: 1 if x =='1' else (0 if x =='0' else x),\n",
    "                                                  totensor(dtype=torch.long)\n",
    "                                          )\n",
    "    \n",
    "    \n",
    "    transforms = (text_transform, label_transform)\n",
    "    \n",
    "    dataset = TextClassificationDataset(data, vocab, transforms)\n",
    "    \n",
    "    return dataset"
   ]
  },
  {
   "cell_type": "code",
   "execution_count": 15,
   "metadata": {
    "ExecuteTime": {
     "end_time": "2021-03-08T14:55:52.091026Z",
     "start_time": "2021-03-08T14:55:52.040576Z"
    }
   },
   "outputs": [],
   "source": [
    "train_dataset = data_to_dataset(train_data, tokenizer, vocab)\n",
    "test_dataset = data_to_dataset(test_data, tokenizer, vocab)"
   ]
  },
  {
   "cell_type": "code",
   "execution_count": 16,
   "metadata": {
    "ExecuteTime": {
     "end_time": "2021-03-08T14:55:52.153271Z",
     "start_time": "2021-03-08T14:55:52.092639Z"
    }
   },
   "outputs": [
    {
     "name": "stdout",
     "output_type": "stream",
     "text": [
      "Number of Train Examples: 3900\n",
      "Number of Test Examples: 1672\n"
     ]
    }
   ],
   "source": [
    "print(f'Number of Train Examples: {len(train_dataset)}')\n",
    "print(f'Number of Test Examples: {len(test_dataset)}')"
   ]
  },
  {
   "cell_type": "code",
   "execution_count": 17,
   "metadata": {
    "ExecuteTime": {
     "end_time": "2021-03-08T14:55:52.207022Z",
     "start_time": "2021-03-08T14:55:52.155081Z"
    }
   },
   "outputs": [
    {
     "name": "stdout",
     "output_type": "stream",
     "text": [
      "tensor([2090,    3,   78,    4,  140,  338,  669,    2,   23,    9, 2155,   71])\n",
      "tensor(0)\n"
     ]
    }
   ],
   "source": [
    "indexes, label  = train_dataset[0]\n",
    "print(indexes)\n",
    "print(label)"
   ]
  },
  {
   "cell_type": "code",
   "execution_count": 18,
   "metadata": {
    "ExecuteTime": {
     "end_time": "2021-03-08T14:55:52.297109Z",
     "start_time": "2021-03-08T14:55:52.208532Z"
    }
   },
   "outputs": [],
   "source": [
    "class Collator:\n",
    "    def __init__(self, pad_idx):\n",
    "        \n",
    "        self.pad_idx = pad_idx\n",
    "        \n",
    "    def collate(self, batch):\n",
    "        text, labels = zip(*batch)\n",
    "        labels = torch.LongTensor(labels)\n",
    "        text = nn.utils.rnn.pad_sequence(text, padding_value=self.pad_idx, batch_first=True)\n",
    "        return text, labels"
   ]
  },
  {
   "cell_type": "code",
   "execution_count": 19,
   "metadata": {
    "ExecuteTime": {
     "end_time": "2021-03-08T14:55:52.348203Z",
     "start_time": "2021-03-08T14:55:52.298827Z"
    }
   },
   "outputs": [
    {
     "name": "stdout",
     "output_type": "stream",
     "text": [
      "0\n"
     ]
    }
   ],
   "source": [
    "pad_token = '<PAD>'\n",
    "pad_idx = vocab[pad_token]\n",
    "print(pad_idx)\n",
    "collator = Collator(pad_idx)"
   ]
  },
  {
   "cell_type": "code",
   "execution_count": 20,
   "metadata": {
    "ExecuteTime": {
     "end_time": "2021-03-08T14:55:52.397540Z",
     "start_time": "2021-03-08T14:55:52.349917Z"
    }
   },
   "outputs": [],
   "source": [
    "batch_size = 32\n",
    "\n",
    "train_loader = torch.utils.data.DataLoader(train_dataset,\n",
    "                                            batch_size,\n",
    "                                            shuffle = False,\n",
    "                                            collate_fn = collator.collate\n",
    "                                          )\n",
    "\n",
    "test_loader = torch.utils.data.DataLoader(test_dataset,\n",
    "                                            batch_size,\n",
    "                                            shuffle = False,\n",
    "                                            collate_fn = collator.collate\n",
    "                                          )"
   ]
  },
  {
   "cell_type": "code",
   "execution_count": 21,
   "metadata": {
    "ExecuteTime": {
     "end_time": "2021-03-08T14:55:52.451914Z",
     "start_time": "2021-03-08T14:55:52.399203Z"
    }
   },
   "outputs": [
    {
     "name": "stdout",
     "output_type": "stream",
     "text": [
      "tensor([[2090,    3,   78,  ...,    0,    0,    0],\n",
      "        [ 124,   10,   49,  ...,    0,    0,    0],\n",
      "        [  89,  569,    6,  ...,    0,    0,    0],\n",
      "        ...,\n",
      "        [ 134,   10,    3,  ...,    0,    0,    0],\n",
      "        [ 144,  329,    5,  ...,    0,    0,    0],\n",
      "        [ 258,  789,  131,  ...,    0,    0,    0]]) tensor([0, 0, 0, 0, 0, 0, 0, 1, 0, 0, 0, 0, 0, 0, 0, 0, 0, 0, 0, 0, 0, 0, 0, 0,\n",
      "        0, 0, 0, 0, 1, 0, 0, 0])\n",
      "torch.Size([32, 79]) torch.Size([32])\n"
     ]
    }
   ],
   "source": [
    "texts, labels = next(iter(train_loader))\n",
    "print(texts, labels)\n",
    "print(texts.shape, labels.shape)"
   ]
  },
  {
   "cell_type": "code",
   "execution_count": 22,
   "metadata": {
    "ExecuteTime": {
     "end_time": "2021-03-08T14:55:52.502179Z",
     "start_time": "2021-03-08T14:55:52.454552Z"
    }
   },
   "outputs": [
    {
     "name": "stdout",
     "output_type": "stream",
     "text": [
      "inputs: tensor([[2090,    3,   78,  ...,    0,    0,    0],\n",
      "        [ 124,   10,   49,  ...,    0,    0,    0],\n",
      "        [  89,  569,    6,  ...,    0,    0,    0],\n",
      "        ...,\n",
      "        [ 134,   10,    3,  ...,    0,    0,    0],\n",
      "        [ 144,  329,    5,  ...,    0,    0,    0],\n",
      "        [ 258,  789,  131,  ...,    0,    0,    0]]) shape: torch.Size([32, 79])\n",
      "targets: tensor([0, 0, 0, 0, 0, 0, 0, 1, 0, 0, 0, 0, 0, 0, 0, 0, 0, 0, 0, 0, 0, 0, 0, 0,\n",
      "        0, 0, 0, 0, 1, 0, 0, 0]) shape: torch.Size([32])\n"
     ]
    }
   ],
   "source": [
    "for texts, labels in train_loader:\n",
    "#     texts = torch.transpose(texts, 0, 1)\n",
    "    print(\"inputs:\", texts, \"shape:\", texts.shape)\n",
    "    print(\"targets:\", labels, \"shape:\", labels.shape)\n",
    "    break"
   ]
  },
  {
   "cell_type": "code",
   "execution_count": null,
   "metadata": {},
   "outputs": [],
   "source": []
  },
  {
   "cell_type": "code",
   "execution_count": 23,
   "metadata": {
    "ExecuteTime": {
     "end_time": "2021-03-08T14:55:52.549782Z",
     "start_time": "2021-03-08T14:55:52.503926Z"
    }
   },
   "outputs": [],
   "source": [
    "# Define the model\n",
    "class LSTM(nn.Module):\n",
    "    def __init__(self, n_vocab, embed_dim, n_hidden, n_rnnlayers, n_outputs):\n",
    "        super(LSTM, self).__init__()\n",
    "        self.V = n_vocab\n",
    "        self.D = embed_dim\n",
    "        self.M = n_hidden\n",
    "        self.K = n_outputs\n",
    "        self.L = n_rnnlayers\n",
    "\n",
    "        self.embed = nn.Embedding(self.V, self.D)\n",
    "        self.rnn = nn.LSTM(\n",
    "            input_size=self.D,\n",
    "            hidden_size=self.M,\n",
    "            num_layers=self.L,\n",
    "            batch_first=True)\n",
    "        self.fc = nn.Linear(self.M, self.K)\n",
    "    \n",
    "    def forward(self, X):\n",
    "        h0 = torch.zeros(self.L, X.size(0), self.M).to(device)\n",
    "        c0 = torch.zeros(self.L, X.size(0), self.M).to(device)\n",
    "\n",
    "\n",
    "        out = self.embed(X)\n",
    "\n",
    "        # get RNN unit output\n",
    "        out, _ = self.rnn(out, (h0, c0))\n",
    "\n",
    "        # max pool\n",
    "        out, _ = torch.max(out, 1)\n",
    "\n",
    "        # we only want h(T) at the final time step\n",
    "        out = self.fc(out)\n",
    "        return out"
   ]
  },
  {
   "cell_type": "code",
   "execution_count": 24,
   "metadata": {
    "ExecuteTime": {
     "end_time": "2021-03-08T14:55:52.612604Z",
     "start_time": "2021-03-08T14:55:52.551894Z"
    }
   },
   "outputs": [
    {
     "name": "stdout",
     "output_type": "stream",
     "text": [
      "cpu\n"
     ]
    }
   ],
   "source": [
    "device = torch.device(\"cuda:0\" if torch.cuda.is_available() else \"cpu\")\n",
    "print(device)"
   ]
  },
  {
   "cell_type": "code",
   "execution_count": 25,
   "metadata": {
    "ExecuteTime": {
     "end_time": "2021-03-08T14:55:52.665605Z",
     "start_time": "2021-03-08T14:55:52.614710Z"
    }
   },
   "outputs": [
    {
     "data": {
      "text/plain": [
       "LSTM(\n",
       "  (embed): Embedding(7569, 20)\n",
       "  (rnn): LSTM(20, 15, batch_first=True)\n",
       "  (fc): Linear(in_features=15, out_features=1, bias=True)\n",
       ")"
      ]
     },
     "execution_count": 25,
     "metadata": {},
     "output_type": "execute_result"
    }
   ],
   "source": [
    "model = LSTM(len(vocab), 20, 15, 1, 1)\n",
    "model.to(device)"
   ]
  },
  {
   "cell_type": "code",
   "execution_count": 26,
   "metadata": {
    "ExecuteTime": {
     "end_time": "2021-03-08T14:55:52.713661Z",
     "start_time": "2021-03-08T14:55:52.668608Z"
    }
   },
   "outputs": [],
   "source": [
    "# Loss and optimizer\n",
    "loss_fn = nn.BCEWithLogitsLoss()\n",
    "optimizer = torch.optim.Adam(model.parameters())"
   ]
  },
  {
   "cell_type": "code",
   "execution_count": 27,
   "metadata": {
    "ExecuteTime": {
     "end_time": "2021-03-08T14:55:52.763928Z",
     "start_time": "2021-03-08T14:55:52.715593Z"
    }
   },
   "outputs": [],
   "source": [
    "class Trainer(object):\n",
    "    def __init__(self,\n",
    "                model,\n",
    "                optim,\n",
    "                loss_fn,\n",
    "                device=\"cpu\"):\n",
    "        self.model = model\n",
    "        self.optim = optim\n",
    "        self.loss_fn = loss_fn\n",
    "        self.device = device\n",
    "        \n",
    "    def fit(self,\n",
    "            train_loader,\n",
    "            test_loader,\n",
    "            n_epochs: int=100,\n",
    "            eval_inter: int=1):\n",
    "        history = {}\n",
    "        history['epoch'] = []\n",
    "        history['training_acc'] = []\n",
    "        history['test_acc'] = []\n",
    "        history['training_loss'] = []\n",
    "        history['test_loss'] = []\n",
    "        # Training Loop\n",
    "\n",
    "        history['p_test'] = []\n",
    "        history['y_test'] = []\n",
    "        p_test = np.array([]) # for listing all predictions - last epoch only\n",
    "        y_test = np.array([]) # for listing all predictions - last epoch only\n",
    "\n",
    "        for epoch in range(n_epochs):\n",
    "            history['epoch'].append(epoch+1)\n",
    "            \n",
    "            self.model.train()\n",
    "            \n",
    "            train_loss = []\n",
    "            n_correct = 0.\n",
    "            n_total = 0.\n",
    "            for inputs, targets in tqdm(train_loader, leave=False):\n",
    "                targets = targets.view(-1, 1).float()\n",
    "                # Move data to GPU\n",
    "                inputs, targets = inputs.to(self.device), targets.to(self.device)\n",
    "\n",
    "                # zero the gradient\n",
    "                self.optim.zero_grad()\n",
    "\n",
    "                # forward pass\n",
    "                outputs = self.model(inputs)\n",
    "                loss = self.loss_fn(outputs, targets)\n",
    "\n",
    "                # get prediction\n",
    "                predictions = (outputs.detach().numpy() > 0) # for bcewithlogitsloss\n",
    "\n",
    "                # update counts\n",
    "                n_correct += (predictions == targets.numpy()).sum().item()\n",
    "                n_total += targets.shape[0]\n",
    "\n",
    "                # backward pass and optimize\n",
    "                loss.backward()\n",
    "                self.optim.step()\n",
    "\n",
    "                train_loss.append(loss.item())\n",
    "\n",
    "            train_loss = np.mean(train_loss)\n",
    "            history['training_acc'].append(n_correct / n_total * 100) \n",
    "            # save losses\n",
    "            history['training_loss'].append(train_loss) \n",
    "    \n",
    "           \n",
    "            self.model.eval()\n",
    "            with torch.no_grad():\n",
    "                test_loss = []\n",
    "                n_correct = 0.\n",
    "                n_total = 0.\n",
    "                for inputs, targets in test_loader:\n",
    "                    targets = targets.view(-1, 1).float()\n",
    "                    # Move data to GPU\n",
    "                    inputs, targets = inputs.to(self.device), targets.to(self.device)\n",
    "\n",
    "                    # forward pass\n",
    "                    outputs_test = self.model(inputs)\n",
    "                    loss_test = self.loss_fn(outputs_test, targets)\n",
    "\n",
    "                    # get prediction\n",
    "                    predictions = (outputs_test.numpy() > 0) # for bcewithlogitsloss\n",
    "        \n",
    "                    # update list of predictions  - done for last epoch only!\n",
    "                    if epoch == (n_epochs - 1):\n",
    "                        p_test = np.concatenate((p_test, predictions.flatten()), axis=0)\n",
    "                        y_test = np.concatenate((y_test, targets.flatten()), axis=0)\n",
    "\n",
    "                    # update counts\n",
    "                    n_correct += (targets.numpy() == predictions).sum().item()\n",
    "                    n_total += targets.shape[0]\n",
    "\n",
    "                    test_loss.append(loss_test.item())\n",
    "            history['p_test'] = p_test\n",
    "            history['y_test'] = y_test\n",
    "            test_loss = np.mean(test_loss)\n",
    "            history['test_acc'].append(n_correct / n_total * 100) \n",
    "            # save losses\n",
    "            history['test_loss'].append(test_loss) \n",
    "            \n",
    "            if (epoch +1) % eval_inter == 0:\n",
    "                print(f\"Epoch: {epoch+1}/{n_epochs}, Train Accuracy: {history['training_acc'][-1]:.2f}%, Test Accuracy: {history['test_acc'][-1]:.2f}%, Train Loss: {history['training_loss'][-1]:.4f}, Test Loss: {history['test_loss'][-1]:.4f}\", end='')\n",
    "        return history\n",
    "\n"
   ]
  },
  {
   "cell_type": "code",
   "execution_count": 28,
   "metadata": {
    "ExecuteTime": {
     "end_time": "2021-03-08T14:56:32.208300Z",
     "start_time": "2021-03-08T14:55:52.765447Z"
    }
   },
   "outputs": [
    {
     "data": {
      "application/vnd.jupyter.widget-view+json": {
       "model_id": "",
       "version_major": 2,
       "version_minor": 0
      },
      "text/plain": [
       "  0%|          | 0/122 [00:00<?, ?it/s]"
      ]
     },
     "metadata": {},
     "output_type": "display_data"
    },
    {
     "name": "stdout",
     "output_type": "stream",
     "text": [
      "Epoch: 1/15, Train Accuracy: 77.82%, Test Accuracy: 85.47%, Train Loss: 0.5393, Test Loss: 0.4304"
     ]
    },
    {
     "data": {
      "application/vnd.jupyter.widget-view+json": {
       "model_id": "",
       "version_major": 2,
       "version_minor": 0
      },
      "text/plain": [
       "  0%|          | 0/122 [00:00<?, ?it/s]"
      ]
     },
     "metadata": {},
     "output_type": "display_data"
    },
    {
     "name": "stdout",
     "output_type": "stream",
     "text": [
      "Epoch: 2/15, Train Accuracy: 87.08%, Test Accuracy: 85.47%, Train Loss: 0.3901, Test Loss: 0.4048"
     ]
    },
    {
     "data": {
      "application/vnd.jupyter.widget-view+json": {
       "model_id": "",
       "version_major": 2,
       "version_minor": 0
      },
      "text/plain": [
       "  0%|          | 0/122 [00:00<?, ?it/s]"
      ]
     },
     "metadata": {},
     "output_type": "display_data"
    },
    {
     "name": "stdout",
     "output_type": "stream",
     "text": [
      "Epoch: 3/15, Train Accuracy: 87.08%, Test Accuracy: 85.47%, Train Loss: 0.3640, Test Loss: 0.3772"
     ]
    },
    {
     "data": {
      "application/vnd.jupyter.widget-view+json": {
       "model_id": "",
       "version_major": 2,
       "version_minor": 0
      },
      "text/plain": [
       "  0%|          | 0/122 [00:00<?, ?it/s]"
      ]
     },
     "metadata": {},
     "output_type": "display_data"
    },
    {
     "name": "stdout",
     "output_type": "stream",
     "text": [
      "Epoch: 4/15, Train Accuracy: 87.08%, Test Accuracy: 85.47%, Train Loss: 0.3209, Test Loss: 0.3155"
     ]
    },
    {
     "data": {
      "application/vnd.jupyter.widget-view+json": {
       "model_id": "",
       "version_major": 2,
       "version_minor": 0
      },
      "text/plain": [
       "  0%|          | 0/122 [00:00<?, ?it/s]"
      ]
     },
     "metadata": {},
     "output_type": "display_data"
    },
    {
     "name": "stdout",
     "output_type": "stream",
     "text": [
      "Epoch: 5/15, Train Accuracy: 88.23%, Test Accuracy: 87.26%, Train Loss: 0.2448, Test Loss: 0.2501"
     ]
    },
    {
     "data": {
      "application/vnd.jupyter.widget-view+json": {
       "model_id": "",
       "version_major": 2,
       "version_minor": 0
      },
      "text/plain": [
       "  0%|          | 0/122 [00:00<?, ?it/s]"
      ]
     },
     "metadata": {},
     "output_type": "display_data"
    },
    {
     "name": "stdout",
     "output_type": "stream",
     "text": [
      "Epoch: 6/15, Train Accuracy: 93.92%, Test Accuracy: 94.62%, Train Loss: 0.1778, Test Loss: 0.1750"
     ]
    },
    {
     "data": {
      "application/vnd.jupyter.widget-view+json": {
       "model_id": "",
       "version_major": 2,
       "version_minor": 0
      },
      "text/plain": [
       "  0%|          | 0/122 [00:00<?, ?it/s]"
      ]
     },
     "metadata": {},
     "output_type": "display_data"
    },
    {
     "name": "stdout",
     "output_type": "stream",
     "text": [
      "Epoch: 7/15, Train Accuracy: 97.44%, Test Accuracy: 96.29%, Train Loss: 0.1207, Test Loss: 0.1330"
     ]
    },
    {
     "data": {
      "application/vnd.jupyter.widget-view+json": {
       "model_id": "",
       "version_major": 2,
       "version_minor": 0
      },
      "text/plain": [
       "  0%|          | 0/122 [00:00<?, ?it/s]"
      ]
     },
     "metadata": {},
     "output_type": "display_data"
    },
    {
     "name": "stdout",
     "output_type": "stream",
     "text": [
      "Epoch: 8/15, Train Accuracy: 98.28%, Test Accuracy: 97.43%, Train Loss: 0.0872, Test Loss: 0.1108"
     ]
    },
    {
     "data": {
      "application/vnd.jupyter.widget-view+json": {
       "model_id": "",
       "version_major": 2,
       "version_minor": 0
      },
      "text/plain": [
       "  0%|          | 0/122 [00:00<?, ?it/s]"
      ]
     },
     "metadata": {},
     "output_type": "display_data"
    },
    {
     "name": "stdout",
     "output_type": "stream",
     "text": [
      "Epoch: 9/15, Train Accuracy: 98.44%, Test Accuracy: 97.31%, Train Loss: 0.0804, Test Loss: 0.1037"
     ]
    },
    {
     "data": {
      "application/vnd.jupyter.widget-view+json": {
       "model_id": "",
       "version_major": 2,
       "version_minor": 0
      },
      "text/plain": [
       "  0%|          | 0/122 [00:00<?, ?it/s]"
      ]
     },
     "metadata": {},
     "output_type": "display_data"
    },
    {
     "name": "stdout",
     "output_type": "stream",
     "text": [
      "Epoch: 10/15, Train Accuracy: 99.10%, Test Accuracy: 97.31%, Train Loss: 0.0596, Test Loss: 0.0972"
     ]
    },
    {
     "data": {
      "application/vnd.jupyter.widget-view+json": {
       "model_id": "",
       "version_major": 2,
       "version_minor": 0
      },
      "text/plain": [
       "  0%|          | 0/122 [00:00<?, ?it/s]"
      ]
     },
     "metadata": {},
     "output_type": "display_data"
    },
    {
     "name": "stdout",
     "output_type": "stream",
     "text": [
      "Epoch: 11/15, Train Accuracy: 99.44%, Test Accuracy: 97.13%, Train Loss: 0.0458, Test Loss: 0.0965"
     ]
    },
    {
     "data": {
      "application/vnd.jupyter.widget-view+json": {
       "model_id": "",
       "version_major": 2,
       "version_minor": 0
      },
      "text/plain": [
       "  0%|          | 0/122 [00:00<?, ?it/s]"
      ]
     },
     "metadata": {},
     "output_type": "display_data"
    },
    {
     "name": "stdout",
     "output_type": "stream",
     "text": [
      "Epoch: 12/15, Train Accuracy: 99.51%, Test Accuracy: 97.61%, Train Loss: 0.0372, Test Loss: 0.0886"
     ]
    },
    {
     "data": {
      "application/vnd.jupyter.widget-view+json": {
       "model_id": "",
       "version_major": 2,
       "version_minor": 0
      },
      "text/plain": [
       "  0%|          | 0/122 [00:00<?, ?it/s]"
      ]
     },
     "metadata": {},
     "output_type": "display_data"
    },
    {
     "name": "stdout",
     "output_type": "stream",
     "text": [
      "Epoch: 13/15, Train Accuracy: 99.51%, Test Accuracy: 97.91%, Train Loss: 0.0303, Test Loss: 0.0806"
     ]
    },
    {
     "data": {
      "application/vnd.jupyter.widget-view+json": {
       "model_id": "",
       "version_major": 2,
       "version_minor": 0
      },
      "text/plain": [
       "  0%|          | 0/122 [00:00<?, ?it/s]"
      ]
     },
     "metadata": {},
     "output_type": "display_data"
    },
    {
     "name": "stdout",
     "output_type": "stream",
     "text": [
      "Epoch: 14/15, Train Accuracy: 99.62%, Test Accuracy: 97.73%, Train Loss: 0.0256, Test Loss: 0.0838"
     ]
    },
    {
     "data": {
      "application/vnd.jupyter.widget-view+json": {
       "model_id": "",
       "version_major": 2,
       "version_minor": 0
      },
      "text/plain": [
       "  0%|          | 0/122 [00:00<?, ?it/s]"
      ]
     },
     "metadata": {},
     "output_type": "display_data"
    },
    {
     "name": "stdout",
     "output_type": "stream",
     "text": [
      "Epoch: 15/15, Train Accuracy: 99.72%, Test Accuracy: 97.55%, Train Loss: 0.0218, Test Loss: 0.0837"
     ]
    }
   ],
   "source": [
    "trainer = Trainer(model, optimizer, loss_fn,device)\n",
    "history={}\n",
    "history = trainer.fit(train_loader,test_loader,15,1)"
   ]
  },
  {
   "cell_type": "code",
   "execution_count": 30,
   "metadata": {
    "ExecuteTime": {
     "end_time": "2021-03-08T14:57:31.052704Z",
     "start_time": "2021-03-08T14:57:30.675070Z"
    }
   },
   "outputs": [
    {
     "data": {
      "image/png": "[encoded data removed]",
      "text/plain": [
       "<Figure size 216x216 with 1 Axes>"
      ]
     },
     "metadata": {},
     "output_type": "display_data"
    }
   ],
   "source": [
    "from sklearn.metrics import confusion_matrix\n",
    "\n",
    "import seaborn as sns\n",
    "\n",
    "# Set font scale\n",
    "sns.set(font_scale=1.5)\n",
    "\n",
    "# Create a confusion matrix\n",
    "conf_mat = confusion_matrix(history['y_test'], history['p_test'])\n",
    "\n",
    "\n",
    "def plot_conf_mat_sb(conf_mat):\n",
    "    \"\"\"\n",
    "    Plots a confusion matrix using seaborn's heatmap\n",
    "    \"\"\"\n",
    "    \n",
    "    fig, ax = plt.subplots(figsize=(3,3))\n",
    "    ax = sns.heatmap(conf_mat,\n",
    "                    annot=True,\n",
    "                    cbar=False)\n",
    "    \n",
    "    plt.xlabel(\"Predicted Label\")\n",
    "    plt.ylabel(\"True Label\")\n",
    "\n",
    "plot_conf_mat_sb(conf_mat)"
   ]
  }
 ],
 "metadata": {
  "kernelspec": {
   "display_name": "Python 3",
   "language": "python",
   "name": "python3"
  },
  "language_info": {
   "codemirror_mode": {
    "name": "ipython",
    "version": 3
   },
   "file_extension": ".py",
   "mimetype": "text/x-python",
   "name": "python",
   "nbconvert_exporter": "python",
   "pygments_lexer": "ipython3",
   "version": "3.8.6"
  }
 },
 "nbformat": 4,
 "nbformat_minor": 4
}
