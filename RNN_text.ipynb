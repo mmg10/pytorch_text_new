{
 "cells": [
  {
   "cell_type": "code",
   "execution_count": 1,
   "metadata": {
    "ExecuteTime": {
     "end_time": "2021-03-04T07:00:02.374237Z",
     "start_time": "2021-03-04T07:00:02.018971Z"
    }
   },
   "outputs": [],
   "source": [
    "# Imports\n",
    "import torch\n",
    "import torch.nn as nn\n",
    "import torchtext\n",
    "from torchtext.vocab import GloVe\n",
    "# import torchtext.data as ttd\n",
    "import numpy as np\n",
    "import pandas as pd\n",
    "import matplotlib.pyplot  as plt\n",
    "from datetime import datetime\n",
    "\n",
    "from torchtext.data import get_tokenizer\n",
    "# from torchtext.data.utils import get_tokenizer\n",
    "\n",
    "import random\n",
    "import collections\n",
    "\n",
    "from torchtext.experimental.functional import sequential_transforms, vocab_func, totensor\n",
    "from torchtext.experimental.datasets.text_classification import TextClassificationDataset\n",
    "\n"
   ]
  },
  {
   "cell_type": "code",
   "execution_count": null,
   "metadata": {},
   "outputs": [],
   "source": []
  },
  {
   "cell_type": "code",
   "execution_count": 2,
   "metadata": {
    "ExecuteTime": {
     "end_time": "2021-03-04T07:00:02.393422Z",
     "start_time": "2021-03-04T07:00:02.376262Z"
    }
   },
   "outputs": [
    {
     "name": "stdout",
     "output_type": "stream",
     "text": [
      "[('Go until jurong point, crazy.. Available only in bugis n great world la e buffet... Cine there got amore wat...', '0'), ('Ok lar... Joking wif u oni...', '0'), (\"Free entry in 2 a wkly comp to win FA Cup final tkts 21st May 2005. Text FA to 87121 to receive entry question(std txt rate)T&C's apply 08452810075over18's\", '1'), ('U dun say so early hor... U c already then say...', '0'), (\"Nah I don't think he goes to usf, he lives around here though\", '0')]\n"
     ]
    }
   ],
   "source": [
    "import csv\n",
    "\n",
    "with open('spam2.csv', mode='r') as csv_file:\n",
    "    csv_reader = csv.reader(csv_file)\n",
    "    next(csv_reader)\n",
    "#     data = tuple(csv_reader)\n",
    "    data = [tuple(line) for line in csv_reader]\n",
    "    \n",
    "print(data[:5])"
   ]
  },
  {
   "cell_type": "code",
   "execution_count": 3,
   "metadata": {
    "ExecuteTime": {
     "end_time": "2021-03-04T07:00:02.473209Z",
     "start_time": "2021-03-04T07:00:02.396210Z"
    }
   },
   "outputs": [
    {
     "name": "stdout",
     "output_type": "stream",
     "text": [
      "Number of Examples: 5572\n"
     ]
    }
   ],
   "source": [
    "print(f'Number of Examples: {len(data)}')"
   ]
  },
  {
   "cell_type": "code",
   "execution_count": 4,
   "metadata": {
    "ExecuteTime": {
     "end_time": "2021-03-04T07:00:02.520439Z",
     "start_time": "2021-03-04T07:00:02.475259Z"
    }
   },
   "outputs": [],
   "source": [
    "def get_train_test_split(data, split_ratio = 0.66):\n",
    "    random.shuffle(data)\n",
    "    \n",
    "    n_train = int(len(data) * split_ratio)\n",
    "    train_data = data[:n_train]\n",
    "    test_data = data[n_train:]\n",
    "    \n",
    "    return train_data, test_data"
   ]
  },
  {
   "cell_type": "code",
   "execution_count": 5,
   "metadata": {
    "ExecuteTime": {
     "end_time": "2021-03-04T07:00:02.574054Z",
     "start_time": "2021-03-04T07:00:02.522462Z"
    }
   },
   "outputs": [],
   "source": [
    "train_data, test_data = get_train_test_split(data)"
   ]
  },
  {
   "cell_type": "code",
   "execution_count": 6,
   "metadata": {
    "ExecuteTime": {
     "end_time": "2021-03-04T07:00:02.627905Z",
     "start_time": "2021-03-04T07:00:02.575480Z"
    }
   },
   "outputs": [
    {
     "name": "stdout",
     "output_type": "stream",
     "text": [
      "Number of Train Examples: 3677\n",
      "Number of Test Examples: 1895\n"
     ]
    }
   ],
   "source": [
    "print(f'Number of Train Examples: {len(train_data)}')\n",
    "print(f'Number of Test Examples: {len(test_data)}')"
   ]
  },
  {
   "cell_type": "code",
   "execution_count": 7,
   "metadata": {
    "ExecuteTime": {
     "end_time": "2021-03-04T07:00:02.676336Z",
     "start_time": "2021-03-04T07:00:02.629416Z"
    }
   },
   "outputs": [],
   "source": [
    "class Tokenizer:\n",
    "    def __init__(self, tokenize_fn = 'basic_english', lower = True, max_length = None):\n",
    "        \n",
    "        self.tokenize_fn = torchtext.data.utils.get_tokenizer(tokenize_fn)\n",
    "        self.lower = lower\n",
    "        self.max_length = max_length\n",
    "        \n",
    "    def tokenize(self, s):\n",
    "        \n",
    "        tokens = self.tokenize_fn(s)\n",
    "        \n",
    "        if self.lower:\n",
    "            tokens = [token.lower() for token in tokens]\n",
    "            \n",
    "        if self.max_length is not None:\n",
    "            tokens = tokens[:self.max_length]\n",
    "            \n",
    "        return tokens"
   ]
  },
  {
   "cell_type": "code",
   "execution_count": 8,
   "metadata": {
    "ExecuteTime": {
     "end_time": "2021-03-04T07:00:02.725599Z",
     "start_time": "2021-03-04T07:00:02.678587Z"
    }
   },
   "outputs": [],
   "source": [
    "max_length=250\n",
    "\n",
    "tokenizer = Tokenizer(max_length=max_length)"
   ]
  },
  {
   "cell_type": "code",
   "execution_count": 9,
   "metadata": {
    "ExecuteTime": {
     "end_time": "2021-03-04T07:00:02.788256Z",
     "start_time": "2021-03-04T07:00:02.727592Z"
    }
   },
   "outputs": [
    {
     "name": "stdout",
     "output_type": "stream",
     "text": [
      "['ham', 'but', 'not']\n"
     ]
    }
   ],
   "source": [
    "s = 'ham but not'\n",
    "print(tokenizer.tokenize(s))"
   ]
  },
  {
   "cell_type": "code",
   "execution_count": 10,
   "metadata": {
    "ExecuteTime": {
     "end_time": "2021-03-04T07:00:02.848192Z",
     "start_time": "2021-03-04T07:00:02.790036Z"
    }
   },
   "outputs": [],
   "source": [
    "def build_vocab_from_data(data, tokenizer, **vocab_kwarg):\n",
    "    \n",
    "    token_freqs = collections.Counter()\n",
    "    \n",
    "    for text, label  in data:\n",
    "        tokens = tokenizer.tokenize(text)\n",
    "        token_freqs.update(tokens)\n",
    "        \n",
    "    vocab = torchtext.vocab.Vocab(token_freqs, **vocab_kwarg)\n",
    "    \n",
    "    return vocab"
   ]
  },
  {
   "cell_type": "code",
   "execution_count": 11,
   "metadata": {
    "ExecuteTime": {
     "end_time": "2021-03-04T07:00:02.967150Z",
     "start_time": "2021-03-04T07:00:02.849735Z"
    }
   },
   "outputs": [],
   "source": [
    "max_size = 25000\n",
    "\n",
    "vocab = build_vocab_from_data(train_data, tokenizer, max_size = max_size)"
   ]
  },
  {
   "cell_type": "code",
   "execution_count": 12,
   "metadata": {
    "ExecuteTime": {
     "end_time": "2021-03-04T07:00:02.972829Z",
     "start_time": "2021-03-04T07:00:02.969451Z"
    }
   },
   "outputs": [
    {
     "name": "stdout",
     "output_type": "stream",
     "text": [
      "Unique words in vocab: 7458\n"
     ]
    }
   ],
   "source": [
    "print(f'Unique words in vocab: {len(vocab)}')"
   ]
  },
  {
   "cell_type": "code",
   "execution_count": 13,
   "metadata": {
    "ExecuteTime": {
     "end_time": "2021-03-04T07:00:03.026625Z",
     "start_time": "2021-03-04T07:00:02.975376Z"
    }
   },
   "outputs": [
    {
     "data": {
      "text/plain": [
       "[('.', 7348), ('i', 1947), ('to', 1518), ('you', 1468), (',', 1284)]"
      ]
     },
     "execution_count": 13,
     "metadata": {},
     "output_type": "execute_result"
    }
   ],
   "source": [
    "vocab.freqs.most_common(5)"
   ]
  },
  {
   "cell_type": "code",
   "execution_count": 14,
   "metadata": {
    "ExecuteTime": {
     "end_time": "2021-03-04T07:00:03.078796Z",
     "start_time": "2021-03-04T07:00:03.029108Z"
    }
   },
   "outputs": [],
   "source": [
    "def data_to_dataset(data, tokenizer, vocab):\n",
    "    \n",
    "    data = [(text, label) for (text, label) in data]\n",
    "    \n",
    "    text_transform = sequential_transforms(tokenizer.tokenize,\n",
    "                                                  vocab_func(vocab),\n",
    "                                                  totensor(dtype=torch.long)\n",
    "                                          )\n",
    "    label_transform = sequential_transforms(lambda x: 1 if x =='1' else (0 if x =='0' else x),\n",
    "                                                  totensor(dtype=torch.long)\n",
    "                                          )\n",
    "    \n",
    "#     label_transform = sequential_transforms(totensor(dtype=torch.long)\n",
    "#                                           )\n",
    "    \n",
    "    transforms = (text_transform, label_transform)\n",
    "    \n",
    "    dataset = TextClassificationDataset(data, vocab, transforms)\n",
    "    \n",
    "    return dataset"
   ]
  },
  {
   "cell_type": "code",
   "execution_count": 15,
   "metadata": {
    "ExecuteTime": {
     "end_time": "2021-03-04T07:00:03.128256Z",
     "start_time": "2021-03-04T07:00:03.080200Z"
    }
   },
   "outputs": [],
   "source": [
    "train_dataset = data_to_dataset(train_data, tokenizer, vocab)\n",
    "test_dataset = data_to_dataset(test_data, tokenizer, vocab)"
   ]
  },
  {
   "cell_type": "code",
   "execution_count": 16,
   "metadata": {
    "ExecuteTime": {
     "end_time": "2021-03-04T07:00:03.179036Z",
     "start_time": "2021-03-04T07:00:03.129548Z"
    }
   },
   "outputs": [
    {
     "name": "stdout",
     "output_type": "stream",
     "text": [
      "Number of Train Examples: 3677\n",
      "Number of Test Examples: 1895\n"
     ]
    }
   ],
   "source": [
    "print(f'Number of Train Examples: {len(train_dataset)}')\n",
    "print(f'Number of Test Examples: {len(test_dataset)}')"
   ]
  },
  {
   "cell_type": "code",
   "execution_count": 17,
   "metadata": {
    "ExecuteTime": {
     "end_time": "2021-03-04T07:00:03.229897Z",
     "start_time": "2021-03-04T07:00:03.180588Z"
    }
   },
   "outputs": [
    {
     "name": "stdout",
     "output_type": "stream",
     "text": [
      "tensor([   3,   75,   87,    4,   38,   18,   52,    3, 2189,    2,    3,  615,\n",
      "          10,  329,   74,  750,   13, 6634,   13, 1551,    7, 7422,    9])\n",
      "tensor(0)\n"
     ]
    }
   ],
   "source": [
    "indexes, label  = train_dataset[0]\n",
    "print(indexes)\n",
    "print(label)"
   ]
  },
  {
   "cell_type": "code",
   "execution_count": 18,
   "metadata": {
    "ExecuteTime": {
     "end_time": "2021-03-04T07:00:03.276382Z",
     "start_time": "2021-03-04T07:00:03.231175Z"
    }
   },
   "outputs": [],
   "source": [
    "class Collator:\n",
    "    def __init__(self, pad_idx):\n",
    "        \n",
    "        self.pad_idx = pad_idx\n",
    "        \n",
    "    def collate(self, batch):\n",
    "        text, labels = zip(*batch)\n",
    "        labels = torch.LongTensor(labels)\n",
    "        text = nn.utils.rnn.pad_sequence(text, padding_value=self.pad_idx)\n",
    "        return labels, text"
   ]
  },
  {
   "cell_type": "code",
   "execution_count": 19,
   "metadata": {
    "ExecuteTime": {
     "end_time": "2021-03-04T07:00:03.339130Z",
     "start_time": "2021-03-04T07:00:03.278152Z"
    }
   },
   "outputs": [
    {
     "name": "stdout",
     "output_type": "stream",
     "text": [
      "0\n"
     ]
    }
   ],
   "source": [
    "pad_token = '<PAD>'\n",
    "pad_idx = vocab[pad_token]\n",
    "print(pad_idx)\n",
    "collator = Collator(pad_idx)"
   ]
  },
  {
   "cell_type": "code",
   "execution_count": 20,
   "metadata": {
    "ExecuteTime": {
     "end_time": "2021-03-04T07:00:03.387604Z",
     "start_time": "2021-03-04T07:00:03.341024Z"
    }
   },
   "outputs": [],
   "source": [
    "batch_size = 1\n",
    "\n",
    "train_loader = torch.utils.data.DataLoader(train_dataset,\n",
    "                                            batch_size,\n",
    "                                            shuffle = False,\n",
    "                                            collate_fn = collator.collate\n",
    "                                          )\n",
    "\n",
    "test_loader = torch.utils.data.DataLoader(test_dataset,\n",
    "                                            batch_size,\n",
    "                                            shuffle = False,\n",
    "                                            collate_fn = collator.collate\n",
    "                                          )"
   ]
  },
  {
   "cell_type": "code",
   "execution_count": 21,
   "metadata": {
    "ExecuteTime": {
     "end_time": "2021-03-04T07:00:03.440541Z",
     "start_time": "2021-03-04T07:00:03.389740Z"
    }
   },
   "outputs": [
    {
     "name": "stdout",
     "output_type": "stream",
     "text": [
      "tensor([0]) tensor([[   3],\n",
      "        [  75],\n",
      "        [  87],\n",
      "        [   4],\n",
      "        [  38],\n",
      "        [  18],\n",
      "        [  52],\n",
      "        [   3],\n",
      "        [2189],\n",
      "        [   2],\n",
      "        [   3],\n",
      "        [ 615],\n",
      "        [  10],\n",
      "        [ 329],\n",
      "        [  74],\n",
      "        [ 750],\n",
      "        [  13],\n",
      "        [6634],\n",
      "        [  13],\n",
      "        [1551],\n",
      "        [   7],\n",
      "        [7422],\n",
      "        [   9]])\n"
     ]
    }
   ],
   "source": [
    "texts, labels = next(iter(train_loader))\n",
    "print(texts, labels)"
   ]
  },
  {
   "cell_type": "code",
   "execution_count": null,
   "metadata": {},
   "outputs": [],
   "source": []
  }
 ],
 "metadata": {
  "kernelspec": {
   "display_name": "Python 3",
   "language": "python",
   "name": "python3"
  },
  "language_info": {
   "codemirror_mode": {
    "name": "ipython",
    "version": 3
   },
   "file_extension": ".py",
   "mimetype": "text/x-python",
   "name": "python",
   "nbconvert_exporter": "python",
   "pygments_lexer": "ipython3",
   "version": "3.8.6"
  }
 },
 "nbformat": 4,
 "nbformat_minor": 4
}
